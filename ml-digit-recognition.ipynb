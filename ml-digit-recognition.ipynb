```python
#create
import azureml.core
print(azureml.core.VERSION)

from azureml.core import Workspace
ws = Workspace.create(name='myworkspace',
                   subscription_id='f9f28618-383c-4234-9c5c-8780905e3f65', 
                      resource_group='myresourcegroup_for_ml',
                      create_resource_group=True,
                      location='westeurope' 
                     )


ws.get_details()
```

```python
##import libraries
# TensorFlow and tf.keras
import tensorflow as tf
from tensorflow import keras
# Helper libraries
import numpy as np
import matplotlib.pyplot as plt
print(tf.__version__)

#Import dataset and set it up to train and test sets
mnist = keras.datasets.mnist
(train_images, train_labels), (test_images, test_labels) = mnist.load_data()
```

```python
#check attributes
train_images.shape
test_images.shape
```

```python
#visualize one number
plt.figure()
plt.imshow(train_images[0])
plt.colorbar()
plt.grid(False)
plt.show()
```

```python
#simplify images /255
train_images = train_images / 255.0
test_images = test_images / 255.0
```

```python
#build model_v1
model = keras.Sequential([
    keras.layers.Flatten(input_shape=(28, 28)),
    keras.layers.Dense(128, activation=tf.nn.relu),
    keras.layers.Dense(10, activation=tf.nn.softmax)
])
```

```python
#Complie the model
model.compile(optimizer='adam', 
              loss='sparse_categorical_crossentropy',
              metrics=['accuracy'])
```

```python
#train the model
model.fit(train_images, train_labels, epochs=5)
```

```python
#test the model
test_loss, test_acc = model.evaluate(test_images, test_labels)
print('Test accuracy:', test_acc)
```

```python
#single test the model
image = test_images[23]
print(image.shape)

#one image as an array
image = (np.expand_dims(image, 0))
print(image.shape)  # (1 x 28 x 28)

#
predictions = model.predict(image)
print(predictions)

#test predictions
plt.imshow(test_images[23])
print(test_labels[23])
```

```python
#save the model
model.save('whtf')
```

```python
#import model
import pandas as pd
from keras.models import load_model
model=load_model('whtf')
```
